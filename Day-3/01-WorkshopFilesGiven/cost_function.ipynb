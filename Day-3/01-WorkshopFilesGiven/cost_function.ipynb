{
 "cells": [
  {
   "cell_type": "markdown",
   "metadata": {},
   "source": [
    "# Cost Function (simple Linear Regression)"
   ]
  },
  {
   "cell_type": "markdown",
   "metadata": {},
   "source": [
    "## Goals\n",
    "In this lab you will:\n",
    "- you will implement and explore the `cost` function for linear regression with one variable. "
   ]
  },
  {
   "cell_type": "markdown",
   "metadata": {},
   "source": [
    "## Tools\n",
    "In this lab we will make use of: \n",
    "- NumPy, a popular library for scientific computing\n",
    "- Matplotlib, a popular library for plotting data"
   ]
  },
  {
   "cell_type": "code",
   "execution_count": 2,
   "metadata": {},
   "outputs": [],
   "source": [
    "import numpy as np\n",
    "import matplotlib.pyplot as plt\n",
    "import math\n",
    "import copy"
   ]
  },
  {
   "cell_type": "markdown",
   "metadata": {},
   "source": [
    "## Problem Statement\n",
    "\n",
    "You would like a model which can predict housing prices given the size of the house.  \n",
    "Let's use the same two data points as before the previous lab- a house with 40 square feet sold for Rs.300,00,000 and a house with 100 square feet sold for Rs. 150,00,000.\n",
    "\n",
    "\n",
    "| Size (1000 sqft)     | Price (100000s of NRs) |\n",
    "| -------------------| ------------------------ |\n",
    "| 40                 | 300                      |\n",
    "| 100                  | 150                      |\n"
   ]
  },
  {
   "cell_type": "code",
   "execution_count": 4,
   "metadata": {},
   "outputs": [],
   "source": [
    "x_train = np.array([1.0, 2.0])           #(size in 1000 square feet)\n",
    "y_train = np.array([300.0, 500.0])           #(price in 100000s of NRS)"
   ]
  },
  {
   "cell_type": "markdown",
   "metadata": {},
   "source": [
    "## Computing Cost\n",
    "The term 'cost' in this assignment might be a little confusing since the data is housing cost. Here, cost is a measure how well our model is predicting the target price of the house. The term 'price' is used for housing data.\n",
    "\n",
    "The equation for cost with one variable is:\n",
    "  $$J(w,b) = \\frac{1}{2m} \\sum\\limits_{i = 0}^{m-1} (f_{w,b}(x^{(i)}) - y^{(i)})^2 \\tag{1}$$ \n",
    " \n",
    "where \n",
    "  $$f_{w,b}(x^{(i)}) = wx^{(i)} + b \\tag{2}$$\n",
    "  \n",
    "- $f_{w,b}(x^{(i)})$ is our prediction for example $i$ using parameters $w,b$.  \n",
    "- $(f_{w,b}(x^{(i)}) -y^{(i)})^2$ is the squared difference between the target value and the prediction.   \n",
    "- These differences are summed over all the $m$ examples and divided by `2m` to produce the cost, $J(w,b)$.  \n"
   ]
  },
  {
   "cell_type": "markdown",
   "metadata": {},
   "source": [
    "## Cost Function Intuition  \n",
    "Your goal is to find a model $f_{w,b}(x) = wx + b$, with parameters $w,b$,  which will accurately predict house values given an input $x$. The cost is a measure of how accurate the model is on the training data.\n",
    "\n",
    "The cost equation (1) above shows that if $w$ and $b$ can be selected such that the predictions $f_{w,b}(x)$ match the target data $y$, the $(f_{w,b}(x^{(i)}) - y^{(i)})^2 $ term will be zero and the cost minimized. In this simple two point example, you can achieve this! \n",
    "<br/>\n",
    "\n",
    "lets initialize $w = 100$ and $b = 100$ and calculate the cost."
   ]
  },
  {
   "cell_type": "code",
   "execution_count": 16,
   "metadata": {},
   "outputs": [
    {
     "name": "stdout",
     "output_type": "stream",
     "text": [
      "Cost of each data point is : [89341.20999999999, 248302.89]\n",
      "Total  cost is : 84411.025\n"
     ]
    }
   ],
   "source": [
    "w_guess = 0.6\n",
    "b_guess = 0.5\n",
    "y_pred = np.dot(w_guess,x_train) + b_guess\n",
    "\n",
    "\n",
    "#Without using Vectorization Concept\n",
    "m = x_train.shape[0]\n",
    "total_cost = 0\n",
    "cost = []\n",
    "for i in range(m):\n",
    "  diff = y_pred[i] - y_train[i]\n",
    "  cost.append(diff ** 2)\n",
    "  total_cost +=cost[i]\n",
    "  final_cost = (total_cost) / (2 * m)\n",
    "  \n",
    "  \n",
    "  \n",
    "  \n",
    "#Using Vectorization Concept\n",
    "# diff = y_pred - y_train\n",
    "# cost = diff ** 2\n",
    "# total_cost = np.sum(cost)\n",
    "print(f\"Cost of each data point is : {cost}\")\n",
    "print(f\"Total  cost is : {final_cost}\")"
   ]
  },
  {
   "cell_type": "markdown",
   "metadata": {},
   "source": [
    "#### Congratulations \n",
    "In this lab you have learned: <br>\n",
    "- what is cost <br>\n",
    "- why is cost function needed<br>\n",
    "- how to compute cost for given two points."
   ]
  }
 ],
 "metadata": {
  "kernelspec": {
   "display_name": "base",
   "language": "python",
   "name": "python3"
  },
  "language_info": {
   "codemirror_mode": {
    "name": "ipython",
    "version": 3
   },
   "file_extension": ".py",
   "mimetype": "text/x-python",
   "name": "python",
   "nbconvert_exporter": "python",
   "pygments_lexer": "ipython3",
   "version": "3.12.7"
  }
 },
 "nbformat": 4,
 "nbformat_minor": 2
}
