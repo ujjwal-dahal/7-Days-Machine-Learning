{
 "cells": [
  {
   "cell_type": "markdown",
   "metadata": {
    "id": "ZlnZmNqGsrBX"
   },
   "source": [
    "# Ordinary Least Squares with Multiple Linear Regression\n",
    "\n",
    "Now that you have estimated the parameters for simple linear regression with OLS let's do the same for multiple linear regression.\n",
    "\n",
    "From earlier content, you have the idea of Multiple Linear Regression. Let's recall a bit. Multiple linear regression generalizes simple linear regression by allowing more than one input variable: $x_{1},x_{2},\\ldots,x_{d}$. The goal of multiple linear regression is to find a relationship between the input variables and the output variable. This relationship is represented mathematically as follows:\n",
    "\n",
    "$$\\hat{y } = \\beta_{0} + \\beta_{1}x_{1} + \\beta_{2}x_{2} + \\cdots + \\beta_{d}x_{d}$$\n",
    " $\\beta_{1}$ through $\\beta_{d}$ are the estimated regression coefficients for the independent variables $x_{1}$ through $x_{d}$. As in simple linear regression, the regression model to get actual output variable is:\n",
    "$$y  = \\beta_{0} + \\beta_{1}x_{1} + \\beta_{2}x_{2} + \\cdots + \\beta_{d}x_{d} +\\epsilon$$\n",
    "\n",
    "$\\epsilon$ is the random error or residual, which reflects the difference between the actual output point and predicted output point.\n",
    "\n",
    "\n"
   ]
  },
  {
   "cell_type": "markdown",
   "metadata": {
    "id": "D8SpTRuM09ye"
   },
   "source": [
    "Multiple linear regression involves more than one input variable, so it is impossible to individually derive a solution for each regression coefficient for each input variable. In a sophisticated regression problem dimension ($d$) can range to very higher values.\n",
    "\n",
    "So, how do we estimate all regression coefficients?\n",
    "\n",
    "From multiple linear regresssion model, we have:\n",
    "\n",
    "$$y_1  = \\beta_{0} + \\beta_{1}x_{11} + \\beta_{2}x_{12} + \\cdots + \\beta_{d}x_{1d} +\\epsilon_1$$\n",
    "\n",
    "We have $n$ set of observations. So we can write:\n",
    "$$\n",
    "\\begin{matrix}\n",
    " y_1 = & \\beta_0 + \\beta_1x_{11}+\\beta_2x_{12}+ \\cdots + \\beta_dx_{1d}+\\epsilon_1\\\\\n",
    "y_2 =  & \\beta_0 + \\beta_1x_{21}+\\beta_2x_{22}+ \\cdots + \\beta_dx_{2d}+\\epsilon_2\\\\\n",
    " y_3 = & \\beta_0 + \\beta_1x_{31}+\\beta_2x_{32}+ \\cdots + \\beta_dx_{3d}+\\epsilon_3\\\\\n",
    " \\vdots&\\vdots \\\\\n",
    "y_n = & \\beta_0 + \\beta_1x_{n1}+\\beta_2x_{n2}+ \\cdots + \\beta_dx_{nd}+\\epsilon_n\n",
    "\\end{matrix}\n",
    "$$\n",
    "\n",
    "$x_{nd}$ is the $n$th observation for $d$th feature or input variable. These $n$ set of equations can be written in matrix form as:\n",
    "\n",
    "$$\\begin{bmatrix}\n",
    "y_1 \\\\\n",
    "y_2 \\\\\n",
    "\\vdots \\\\\n",
    "y_n\n",
    "\\end{bmatrix} =   \\begin{bmatrix}\n",
    "  1 & x_{11} & \\cdots & x_{1d} \\\\\n",
    "  1 & x_{21} & \\cdots & x_{2d} \\\\\n",
    "  \\vdots  & \\vdots  & \\ddots & \\vdots  \\\\\n",
    "  1 & x_{n1} & \\cdots & x_{nd}\n",
    " \\end{bmatrix}\\begin{bmatrix}\n",
    "\\beta_0 \\\\\n",
    "\\beta_1 \\\\\n",
    "\\vdots \\\\\n",
    "\\beta_d\n",
    "\\end{bmatrix}+ \\begin{bmatrix}\n",
    "\\epsilon_1 \\\\\n",
    "\\epsilon_2 \\\\\n",
    "\\vdots \\\\\n",
    "\\epsilon_n\n",
    "\\end{bmatrix}$$\n",
    "\n",
    "Using mathematical notations, we can write as:\n",
    "\n",
    "$$\\mathbf{y}= \\mathbf{X}\\boldsymbol{\\beta} + \\mathbf{\\epsilon} ...(1)$$\n",
    "\n",
    "$\\mathbf{y}$  is a $\\text{n}\\times 1$ column matrix where each element is the observed value of output variable. Similarly, $\\mathbf{X}$ is $\\text{n}\\times\\text{(d+1)}$ matrix. An extra dimension is due to the inclusion of $1's$ in the first column. You can interpret the first column, including $1'$s as being multiplied against $\\beta_0$. There are ($\\text{d+1}$) unknown parameters, $\\text{d}$ regression coefficients for each of the input variables and $1$ extra for the intercept, $\\beta_0$. So $\\boldsymbol{\\beta}$ is $\\text{(d+1)}\\times1$ column matrix.\n",
    "\n",
    "\n",
    "By now, we addressed the multiple features and multiple unknown parameters properly in the form of a matrix. Now, we roll back to the principle of OLS to determine the unknown parameters.\n",
    "\n",
    "From OLS, our objective is to find a column matrix or a column vector, $\\boldsymbol{\\beta}$, such that _Sum of Squared Errors_, $\\text{SSE}$ is minimum. $\\text{SSE}$ is written as:\n",
    "\n",
    "$$\\text{SSE} = \\sum_{i=1}^{n} (y_i-\\hat{y_i})^2 = \\sum_{i=1}^{n}\\epsilon_i^2 $$\n",
    "\n",
    "Since\n",
    "\n",
    "$$\\epsilon^T\\epsilon  = \\begin{bmatrix}\n",
    "\\epsilon_1  & \\epsilon_2  &\\dots  & = \\epsilon_n\n",
    "\\end{bmatrix}.\\begin{bmatrix}\n",
    "\\epsilon_1 \\\\\n",
    "\\epsilon_2 \\\\\n",
    "\\vdots \\\\\n",
    "\\epsilon_n\n",
    "\\end{bmatrix} = \\epsilon_1^2+\\epsilon_2^2+\\dots\\epsilon_n^2 = \\sum_{i=1}^{n}\\epsilon_i^2$$\n",
    "\n",
    "We can also write $\\text{SSE}$ as:\n",
    "$$\\text{SSE} =\\sum_{i=1}^{n}\\epsilon_i^2 =  \\epsilon^T\\epsilon$$\n",
    "\n",
    "\n",
    "\n",
    "From equation $\\text{(1)}$, we know that\n",
    "\n",
    "$$\\mathbf{\\epsilon} = \\mathbf{y}- \\mathbf{X}\\boldsymbol{\\beta}$$\n",
    "so we can also write $\\text{SSE}$ as:\n",
    "\n",
    "$$\\text{SSE} = \\epsilon^T\\epsilon = (\\mathbf{y} - \\mathbf{X}\\boldsymbol{\\beta})^T(\\mathbf{y} - \\mathbf{X}\\boldsymbol{\\beta})$$\n",
    "\n",
    "This positive quadratic error function or $\\text{SSE}$ or objective function is always a convex surface facing upwards as in a simple linear equation. From calculus, the value of parameters at the minimum point is obtained by setting the first derivative of the objective function, with respect to the parameters, equal to $0$. So, we will take the partial derivative of the objective function, with respect to $\\boldsymbol{\\beta}$, and get the value for the column matrix, $\\boldsymbol{\\beta}$.\n",
    "\n",
    "$$\\frac{\\partial\\ \\text{SSE} }{\\partial \\boldsymbol{\\beta}}  = \\frac{\\partial }{\\partial \\boldsymbol{\\beta}}(\\mathbf{y} - \\mathbf{X} \\boldsymbol{\\beta})^T(\\mathbf{y} - \\mathbf{X}\\boldsymbol{\\beta})=\\frac{\\partial }{\\partial \\boldsymbol{\\beta}}(\\mathbf{y^Ty}+\\boldsymbol{\\beta}^T\\mathbf{X}^T\\mathbf{X}\\boldsymbol{\\beta}-2\\boldsymbol{\\beta}^T\\mathbf{X}^T\\mathbf{y}) $$\n",
    "\n",
    "You can take a pen and paper and try expanding the product term to the sums. You have to use basic transpose rules and matrix multiplication rules. That's it! Now, we will set the derivative to $0$ as:\n",
    "$$\\frac{\\partial }{\\partial \\boldsymbol{\\boldsymbol{\\beta}}}(\\mathbf{y^Ty}+\\boldsymbol{\\beta}^T\\mathbf{X}^T\\mathbf{X}\\boldsymbol{\\beta}-2\\boldsymbol{\\beta}^T\\mathbf{X}^T\\mathbf{y})=0$$\n",
    "\n",
    "As we saw for the column vector $\\mathbf{\\epsilon}$ we know, $\\boldsymbol{\\beta}^T\\boldsymbol{\\beta} = \\boldsymbol{\\beta}^2$. After derivation we can write as:\n",
    "$$ 2\\mathbf{X}^T\\mathbf{X}\\boldsymbol{\\beta}- 2\\mathbf{X}^T\\mathbf{y} = 0$$\n",
    "\n",
    "This can be written as:\n",
    "\n",
    "$$ 2\\mathbf{X}^T\\mathbf{X}\\boldsymbol{\\beta} = 2\\mathbf{X}^T\\mathbf{y} $$\n",
    "\n",
    "\n",
    "Cancelling $2$ on both sides and isolating $\\beta$, we get:\n",
    "\n",
    "$$\n",
    "\\mathbf{X}^T\\mathbf{X}\\boldsymbol{\\beta} = \\mathbf{X}^T\\mathbf{y}$$\n",
    "\n",
    "This is the solution to unknown parameters. But, usually, we don't express the formulae for parameter estimates in this way. We express it in the form of the normal equation by multiplying both sides by inverse of $ \\mathbf{X}^T\\mathbf{X} $ as:\n",
    "\n",
    "$$\\boldsymbol{\\beta} =(\\mathbf{X}^T\\mathbf{X})^{-1} \\mathbf{X}^T\\mathbf{y}$$\n",
    "\n",
    "Thus, this normal equation derived is the solution to the unknown parameters in multiple linear regression.\n",
    "\n",
    "Since the parameters are estimates, we usually put _hats_ on them so, the normal equation to determine estimated parameters is:\n",
    "$$\\hat{\\boldsymbol{\\beta}} =(\\mathbf{X}^T\\mathbf{X})^{-1} \\mathbf{X}^T\\mathbf{y}$$\n",
    "\n",
    "\n",
    "\n",
    "\n",
    "\n",
    "\n"
   ]
  },
  {
   "cell_type": "markdown",
   "metadata": {
    "id": "zxquTyslm56m"
   },
   "source": [
    "## Implementation on Real World Dataset\n",
    "\n",
    "\n",
    "For implementation, we will use same Advertising dataset.\n",
    "\n",
    "A popular introductory statistics book, [An Introduction to Statistical Learning](https://www.statlearning.com), provides this dataset on their website. This dataset can be downloaded from the following address:\n",
    "  * https://www.statlearning.com/s/Advertising.csv\n",
    "\n",
    "This dataset has got three inputs as advertising mediums, i.e., _TV_, _radio_ and _newspaper_. Similarly the output variable is _sales_. This is a sales prediction problem with investment in any of the advertising mediums.\n"
   ]
  },
  {
   "cell_type": "markdown",
   "metadata": {
    "id": "CX8bp0qOrkQF"
   },
   "source": [
    "## Imports"
   ]
  },
  {
   "cell_type": "code",
   "execution_count": 1,
   "metadata": {
    "id": "sNl4HwPom_PA"
   },
   "outputs": [],
   "source": [
    "import numpy as np\n",
    "import pandas as pd\n",
    "import matplotlib as mpl\n",
    "from matplotlib import pyplot as plt\n",
    "from IPython.display import display, HTML"
   ]
  },
  {
   "cell_type": "code",
   "execution_count": 2,
   "metadata": {
    "colab": {
     "base_uri": "https://localhost:8080/",
     "height": 206
    },
    "id": "yRYlwVTQrjiw",
    "outputId": "dffff917-5c17-469c-b70b-53627879cbce"
   },
   "outputs": [
    {
     "data": {
      "text/html": [
       "<div>\n",
       "<style scoped>\n",
       "    .dataframe tbody tr th:only-of-type {\n",
       "        vertical-align: middle;\n",
       "    }\n",
       "\n",
       "    .dataframe tbody tr th {\n",
       "        vertical-align: top;\n",
       "    }\n",
       "\n",
       "    .dataframe thead th {\n",
       "        text-align: right;\n",
       "    }\n",
       "</style>\n",
       "<table border=\"1\" class=\"dataframe\">\n",
       "  <thead>\n",
       "    <tr style=\"text-align: right;\">\n",
       "      <th></th>\n",
       "      <th>TV</th>\n",
       "      <th>radio</th>\n",
       "      <th>newspaper</th>\n",
       "      <th>sales</th>\n",
       "    </tr>\n",
       "  </thead>\n",
       "  <tbody>\n",
       "    <tr>\n",
       "      <th>1</th>\n",
       "      <td>230.1</td>\n",
       "      <td>37.8</td>\n",
       "      <td>69.2</td>\n",
       "      <td>22.1</td>\n",
       "    </tr>\n",
       "    <tr>\n",
       "      <th>2</th>\n",
       "      <td>44.5</td>\n",
       "      <td>39.3</td>\n",
       "      <td>45.1</td>\n",
       "      <td>10.4</td>\n",
       "    </tr>\n",
       "    <tr>\n",
       "      <th>3</th>\n",
       "      <td>17.2</td>\n",
       "      <td>45.9</td>\n",
       "      <td>69.3</td>\n",
       "      <td>9.3</td>\n",
       "    </tr>\n",
       "    <tr>\n",
       "      <th>4</th>\n",
       "      <td>151.5</td>\n",
       "      <td>41.3</td>\n",
       "      <td>58.5</td>\n",
       "      <td>18.5</td>\n",
       "    </tr>\n",
       "    <tr>\n",
       "      <th>5</th>\n",
       "      <td>180.8</td>\n",
       "      <td>10.8</td>\n",
       "      <td>58.4</td>\n",
       "      <td>12.9</td>\n",
       "    </tr>\n",
       "  </tbody>\n",
       "</table>\n",
       "</div>"
      ],
      "text/plain": [
       "      TV  radio  newspaper  sales\n",
       "1  230.1   37.8       69.2   22.1\n",
       "2   44.5   39.3       45.1   10.4\n",
       "3   17.2   45.9       69.3    9.3\n",
       "4  151.5   41.3       58.5   18.5\n",
       "5  180.8   10.8       58.4   12.9"
      ]
     },
     "execution_count": 2,
     "metadata": {},
     "output_type": "execute_result"
    }
   ],
   "source": [
    "data_path = \"https://www.statlearning.com/s/Advertising.csv\"\n",
    "\n",
    "# Read the CSV data from the link\n",
    "data_df = pd.read_csv(data_path,index_col=0)\n",
    "\n",
    "# Print out first 5 samples from the DataFrame\n",
    "data_df.head()"
   ]
  },
  {
   "cell_type": "code",
   "execution_count": 3,
   "metadata": {
    "colab": {
     "base_uri": "https://localhost:8080/",
     "height": 278
    },
    "id": "DvmS-Veuv4TU",
    "outputId": "b3ff9d81-0c4d-48d1-8f2b-fbbb0f828c59"
   },
   "outputs": [
    {
     "data": {
      "image/png": "[encoded data removed]",
      "text/plain": [
       "<Figure size 1500x400 with 3 Axes>"
      ]
     },
     "metadata": {},
     "output_type": "display_data"
    }
   ],
   "source": [
    "fig = plt.figure(figsize=(15,4))\n",
    "gs = mpl.gridspec.GridSpec(1,3)\n",
    "\n",
    "# Plot of sales vs TV\n",
    "ax = fig.add_subplot(gs[0])\n",
    "ax.scatter(data_df[\"TV\"], data_df[\"sales\"], color=\"red\", marker=\".\")\n",
    "ax.set_xlabel(\"TV\")\n",
    "ax.set_ylabel(\"sales\")\n",
    "\n",
    "# Plot of sales vs radio\n",
    "ax = fig.add_subplot(gs[1])\n",
    "ax.scatter(data_df[\"radio\"], data_df[\"sales\"], color=\"green\", marker=\".\")\n",
    "ax.set_xlabel(\"radio\")\n",
    "ax.set_ylabel(\"sales\")\n",
    "\n",
    "# Plot of sales vs newspaper\n",
    "ax = fig.add_subplot(gs[2])\n",
    "ax.scatter(data_df[\"newspaper\"], data_df[\"sales\"], color=\"blue\", marker=\".\")\n",
    "ax.set_xlabel(\"newspaper\")\n",
    "ax.set_ylabel(\"sales\")\n",
    "\n",
    "plt.show()"
   ]
  },
  {
   "cell_type": "markdown",
   "metadata": {
    "id": "dHMhsKdQr4r5"
   },
   "source": [
    "The first plot shows a sharp upward trend in the number of units sold as TV advertising increases. A similar trend is also found as radio advertising increases. However, in the last plot, there does not appear to be a relationship between newspaper advertising and the number of units sold."
   ]
  },
  {
   "cell_type": "markdown",
   "metadata": {
    "id": "BMRz7lTer6aj"
   },
   "source": [
    "## Multiple Linear regression using Ordinary Least Squares\n",
    "\n",
    "Earlier in simple linear regression, we took one variable at a time. But now in multiple linear regression, we will take more input variable. We will see two cases as we saw in L1 content. First, we will see the combined effect of `TV` and `radio` into the output variable `sales` then secondly, we will see the combined effect of all three inputs, `TV`, `radio` and `newspaper` into the output variable `sales`."
   ]
  },
  {
   "cell_type": "code",
   "execution_count": 4,
   "metadata": {
    "colab": {
     "base_uri": "https://localhost:8080/",
     "height": 184
    },
    "id": "-Wh0-1Qdu0Of",
    "outputId": "4d3e9c48-8f6d-4a7a-8a55-947aa9875301"
   },
   "outputs": [
    {
     "data": {
      "text/html": [
       "<strong>TV and Radio</strong> <br>\n",
       "$y$ = 2.92 + 0.05$x_{1}$ + 0.19$x_{2}$ <br>\n",
       "$x_{1}$ = TV <br>\n",
       "$x_{2}$ = radio\n"
      ],
      "text/plain": [
       "<IPython.core.display.HTML object>"
      ]
     },
     "metadata": {},
     "output_type": "display_data"
    },
    {
     "name": "stdout",
     "output_type": "stream",
     "text": [
      "\n"
     ]
    },
    {
     "data": {
      "text/html": [
       "<strong>TV, Radio, and Newspaper</strong> <br>\n",
       "$y$ = 2.94 + 0.05$x_{1}$ + 0.19$x_{2}$ + -0.00$x_{3}$ <br>\n",
       "$x_{1}$ = TV <br>\n",
       "$x_{2}$ = radio <br>\n",
       "$x_{3}$ = newspaper\n"
      ],
      "text/plain": [
       "<IPython.core.display.HTML object>"
      ]
     },
     "metadata": {},
     "output_type": "display_data"
    }
   ],
   "source": [
    "\n",
    "# Training Linear Regression using TV and Radio features\n",
    "X = data_df[[\"TV\", \"radio\"]]\n",
    "y = data_df[[\"sales\"]]\n",
    "\n",
    "# set bias/intercept  term to 1 for each 200 samples\n",
    "X = np.c_[np.ones((200, 1)), X]\n",
    "X_transpose = np.transpose(X)\n",
    "\n",
    "# implementing least square solution of matrix form\n",
    "betas = np.linalg.inv(X_transpose.dot(X)).dot(X_transpose).dot(y)\n",
    "# beta_one = np.linalg.inv(np.matmul(X_transpose,X))\n",
    "# betas = np.matmul(np.matmul(beta_one,X_transpose),y)\n",
    "\n",
    "\n",
    "message = \"\"\"<strong>TV and Radio</strong> <br>\n",
    "$y$ = {:.2f} + {:.2f}$x_{{1}}$ + {:.2f}$x_{{2}}$ <br>\n",
    "$x_{{1}}$ = TV <br>\n",
    "$x_{{2}}$ = radio\n",
    "\"\"\".format(*betas[0], *betas[1], *betas[2])\n",
    "display(HTML( message ))\n",
    "\n",
    "print(\"\")\n",
    "\n",
    "\n",
    "# # Training Linear Regression using all features\n",
    "X = data_df[[\"TV\", \"radio\", \"newspaper\"]]\n",
    "y = data_df[[\"sales\"]]\n",
    "\n",
    "# set bias/intercept  term to 1 for each 200 samples\n",
    "X = np.c_[np.ones((200, 1)), X]\n",
    "X_transpose = np.transpose(X)\n",
    "\n",
    "\n",
    "# implementing least square solution of matrix form\n",
    "betas = np.linalg.inv(X_transpose.dot(X)).dot(X_transpose).dot(y)\n",
    "\n",
    "message = \"\"\"<strong>TV, Radio, and Newspaper</strong> <br>\n",
    "$y$ = {:.2f} + {:.2f}$x_{{1}}$ + {:.2f}$x_{{2}}$ + {:.2f}$x_{{3}}$ <br>\n",
    "$x_{{1}}$ = TV <br>\n",
    "$x_{{2}}$ = radio <br>\n",
    "$x_{{3}}$ = newspaper\n",
    "\"\"\".format(*betas[0], *betas[1], *betas[2], *betas[3])\n",
    "display(HTML( message ))\n",
    "\n"
   ]
  },
  {
   "cell_type": "markdown",
   "metadata": {
    "id": "AGcwr5C399FE"
   },
   "source": [
    "**TV, radio Vs. sales:**\n",
    "\n",
    "\n",
    "\n",
    "_TV_ and _radio_ are the input variables, $x_1 and x_2$ respectively and _sales_ is the output variable, $y$. We obtain a multiple linear regression model of $y = 2.92 + 0.05x_{1} + 0.19x_{2}$. Intercept, $\\beta_0$ has been estimated as $2.92$ and two regression coefficients, $\\beta_1$ and $\\beta_2$ have been estimated to $0.05$ and $0.19$ respectively. The values of the parameters through OLS is same to that through `Scikit-Learn`.\n",
    "\n",
    "**TV, radio, newspaper Vs. sales:**\n",
    "\n",
    "\n",
    "\n",
    "\n",
    "\n",
    "_TV_ , _radio_ and _newspaper_are the input variables, $x_1, x_2 and x_3$ respectively and _sales_ is the output variable, $y$. We obtain a multiple linear regression model of $y = 2.94 + 0.05x_{1} + 0.19x_{2} + 0.00x_{3}$; note that each of the estimated model parameters (i.e., $\\beta_{0}$ through $\\beta_{3}$) have been rounded to 2 decimal places.. Intercept, $\\beta_0$ has been estimated as $2.94$ and three regression coefficients, $\\beta_1$, $\\beta_2$ and $\\beta_3$ have been estimated to $0.05$, $0.19$,  and $0.00$ respectively. The values of the parameters through OLS is same to that through `Scikit-Learn`."
   ]
  },
  {
   "cell_type": "markdown",
   "metadata": {
    "id": "-i6tNh4I9-GM"
   },
   "source": [
    "## Potential Issues with Ordinary Least Squares\n",
    "\n",
    "We have now derived OLS for both simple linear regression and multiple linear regression. By both derivations, we are now clear to the key principle of Ordinary Least Squares. OLS tends to find the estimates of parameters such that the _Sum of Squares of Errors, SSE_ is minimum.\n",
    "\n",
    "While deriving the solution, we had made few assumptions. Violation of these assumptions might create serious problems while finding the solution. Some of the assumptions with the potential issues after their violation are:\n",
    "\n",
    "\n",
    "\n",
    "- Existence of $(\\mathbf{X}^{T}\\mathbf{X})^{-1}$\n",
    "\n",
    "  While calculating $\\beta$, we assume that $(\\mathbf{X}^{T}\\mathbf{X})^{-1}$ exists. When doesn't it exist?\n",
    "\n",
    "  The inverse doesn't exist when the matrix, $\\mathbf{X}^{T}\\mathbf{X}$, is not a full rank matrix. The matrix $\\mathbf{X}$ with dimension $n\\times(d+1)$ should have at least $(d+1)$ linearly independent rows to make $\\mathbf{X}^{T}\\mathbf{X}$ a full rank matrix. If there is perfect colinearity between any two independent input variables, then the matrix doesn't become full rank and the issues arise. There should be correlation between dependent(output) and independent(input) variable but the independent variables should be independent of each other.\n",
    "\n",
    "- Existence of $n>>d$\n",
    "\n",
    "  If $n<d+1$, we can not do least squares. Numerous solution are obtained if the number of data points is less than the dimension of the features. So, we need more observations or samples than the number of features.\n",
    "\n",
    "There is another parameter estimation method, _Gradient Descent_, which addresses the issues of Ordinary Least Squares. We will deep dive into _Gradient Descent_ in the upcoming chapter."
   ]
  }
 ],
 "metadata": {
  "colab": {
   "provenance": []
  },
  "kernelspec": {
   "display_name": "pytorch_env",
   "language": "python",
   "name": "python3"
  },
  "language_info": {
   "codemirror_mode": {
    "name": "ipython",
    "version": 3
   },
   "file_extension": ".py",
   "mimetype": "text/x-python",
   "name": "python",
   "nbconvert_exporter": "python",
   "pygments_lexer": "ipython3",
   "version": "3.9.20"
  }
 },
 "nbformat": 4,
 "nbformat_minor": 0
}
